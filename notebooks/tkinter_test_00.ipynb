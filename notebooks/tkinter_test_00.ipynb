{
 "cells": [
  {
   "cell_type": "markdown",
   "metadata": {},
   "source": [
    "バージョン情報"
   ]
  },
  {
   "cell_type": "code",
   "execution_count": 2,
   "metadata": {},
   "outputs": [],
   "source": [
    "import tkinter\n",
    "import time\n",
    "import os\n",
    "\n",
    "tkinter._test()"
   ]
  },
  {
   "cell_type": "code",
   "execution_count": null,
   "metadata": {},
   "outputs": [],
   "source": [
    "from tkinter import *\n",
    "from tkinter import ttk"
   ]
  },
  {
   "cell_type": "markdown",
   "metadata": {},
   "source": [
    "ウインドウ表示とサイズ指定 "
   ]
  },
  {
   "cell_type": "code",
   "execution_count": null,
   "metadata": {},
   "outputs": [],
   "source": [
    "\n",
    "root = Tk()\n",
    "root.title(\"はじめてのtkinter\")\n",
    "root.geometry(\"300x50\")\n",
    "\n",
    "##ウィンドウの表示\n",
    "root.mainloop()\n"
   ]
  },
  {
   "cell_type": "markdown",
   "metadata": {},
   "source": [
    "ラべル表示"
   ]
  },
  {
   "cell_type": "code",
   "execution_count": 11,
   "metadata": {},
   "outputs": [],
   "source": [
    "root = Tk()\n",
    "\n",
    "# タイトル、サイズ\n",
    "root.title(\"はじめてのtkinter\")\n",
    "root.geometry(\"300x500\")\n",
    "\n",
    "# ラベル\n",
    "label = ttk.Label(root,text ='Hello Python!')\n",
    "label.pack()\n",
    "\n",
    "#ウィンドウの表示\n",
    "root.mainloop()"
   ]
  },
  {
   "cell_type": "markdown",
   "metadata": {},
   "source": [
    "入力ボックス"
   ]
  },
  {
   "cell_type": "code",
   "execution_count": 15,
   "metadata": {},
   "outputs": [],
   "source": [
    "root = Tk()\n",
    "\n",
    "# タイトル、サイズ\n",
    "root.title(\"はじめてのtkinter\")\n",
    "root.geometry(\"300x50\")\n",
    "\n",
    "# ラベル\n",
    "label = ttk.Label(root,text ='Hello Python!')\n",
    "label.pack()\n",
    "\n",
    "# ボックス\n",
    "entry = ttk.Entry(root)\n",
    "entry.pack()\n",
    "\n",
    "#ウィンドウの表示\n",
    "root.mainloop()"
   ]
  },
  {
   "cell_type": "markdown",
   "metadata": {},
   "source": [
    "ボタン"
   ]
  },
  {
   "cell_type": "code",
   "execution_count": null,
   "metadata": {},
   "outputs": [],
   "source": [
    "root = Tk()\n",
    "\n",
    "# タイトル、サイズ\n",
    "root.title(\"はじめてのtkinter\")\n",
    "root.geometry(\"300x100\")\n",
    "\n",
    "# ラベル\n",
    "label = ttk.Label(root,text ='Hello Python!')\n",
    "label.pack()\n",
    "\n",
    "# ボックス\n",
    "entry = ttk.Entry(root)\n",
    "entry.pack()\n",
    "\n",
    "# ボタン\n",
    "button = ttk.Button(root,text = 'OK')\n",
    "button.pack()\n",
    "\n",
    "#ウィンドウの表示\n",
    "root.mainloop()"
   ]
  },
  {
   "cell_type": "markdown",
   "metadata": {},
   "source": [
    "Labelウィジェット"
   ]
  },
  {
   "cell_type": "code",
   "execution_count": 13,
   "metadata": {},
   "outputs": [],
   "source": [
    "root = Tk()\n",
    "root.title(\"はじめてのtkinter\")\n",
    "\n",
    "text = \"あのイーハトーヴォのすきとおった風、夏でも底に冷たさをもつ青いそら、うつくしい森で飾られたモリーオ市、郊外のぎらぎらひかる草の波。　またそのなかでいっしょになったたくさんのひとたち、ファゼーロとロザーロ、羊飼のミーロや、顔の赤いこどもたち、地主のテーモ、山猫博士のボーガント・デストゥパーゴなど、いまこの暗い巨きな石の建物のなかで考えていると、みんなむかし風のなつかしい青い幻燈のように思われます。では、わたくしはいつかの小さなみだしをつけながら、しずかにあの年のイーハトーヴォの五月から十月までを書きつけましょう。\"\n",
    "\n",
    "# オブジェクトの定義\n",
    "# rock_climbing_woman = PhotoImage(file=r'C:\\Users\\JY810251\\python\\Python-GUI-test\\images\\rockClimbing.jpg')\n",
    "label = ttk.Label(\n",
    "    root,\n",
    "    text=text,\n",
    "    foreground=\"#1155ee\",\n",
    "    padding=(5, 10),\n",
    "    font=(\"Times New Roman\", 20),\n",
    "    wraplength=400,\n",
    "    # image = rock_climbing_woman, compound = 'right'\n",
    ")\n",
    "\n",
    "entry = ttk.Entry(root)\n",
    "button = ttk.Button(root, text=\"OK\")\n",
    "\n",
    "# レイアウト\n",
    "label.pack()\n",
    "entry.pack()\n",
    "button.pack()\n",
    "\n",
    "# ウィンドウの表示\n",
    "root.mainloop()"
   ]
  }
 ],
 "metadata": {
  "kernelspec": {
   "display_name": ".venv",
   "language": "python",
   "name": "python3"
  },
  "language_info": {
   "codemirror_mode": {
    "name": "ipython",
    "version": 3
   },
   "file_extension": ".py",
   "mimetype": "text/x-python",
   "name": "python",
   "nbconvert_exporter": "python",
   "pygments_lexer": "ipython3",
   "version": "3.11.9"
  }
 },
 "nbformat": 4,
 "nbformat_minor": 2
}
