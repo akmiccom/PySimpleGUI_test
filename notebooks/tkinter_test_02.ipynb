{
 "cells": [
  {
   "cell_type": "code",
   "execution_count": 7,
   "metadata": {},
   "outputs": [],
   "source": [
    "import tkinter\n",
    "import datetime\n",
    "import time\n",
    "import threading"
   ]
  },
  {
   "cell_type": "code",
   "execution_count": 11,
   "metadata": {},
   "outputs": [],
   "source": [
    "def get_time():\n",
    "    while True:\n",
    "        now = datetime.datetime.now()\n",
    "        tm = \"{:02}:{:02}:{:02}\".format(now.hour, now.minute, now.second)\n",
    "        ### キャンバス初期化\n",
    "        canvas.delete(\"all\")\n",
    "\n",
    "        ### キャンバスに時刻表示\n",
    "        canvas.create_text(100, 50, text=tm, font=(None, 36))\n",
    "\n",
    "        #### 待ち時間\n",
    "        time.sleep(1)"
   ]
  },
  {
   "cell_type": "code",
   "execution_count": 12,
   "metadata": {},
   "outputs": [
    {
     "name": "stderr",
     "output_type": "stream",
     "text": [
      "Exception in thread Thread-7 (get_time):\n",
      "Traceback (most recent call last):\n",
      "  File \"C:\\Program Files\\WindowsApps\\PythonSoftwareFoundation.Python.3.11_3.11.2544.0_x64__qbz5n2kfra8p0\\Lib\\threading.py\", line 1045, in _bootstrap_inner\n",
      "    self.run()\n",
      "  File \"c:\\Users\\JY810251\\python\\Python-GUI-test\\.venv\\Lib\\site-packages\\ipykernel\\ipkernel.py\", line 766, in run_closure\n",
      "    _threading_Thread_run(self)\n",
      "  File \"C:\\Program Files\\WindowsApps\\PythonSoftwareFoundation.Python.3.11_3.11.2544.0_x64__qbz5n2kfra8p0\\Lib\\threading.py\", line 982, in run\n",
      "    self._target(*self._args, **self._kwargs)\n",
      "  File \"C:\\Users\\JY810251\\AppData\\Local\\Temp\\ipykernel_21220\\3665437252.py\", line 6, in get_time\n",
      "  File \"C:\\Program Files\\WindowsApps\\PythonSoftwareFoundation.Python.3.11_3.11.2544.0_x64__qbz5n2kfra8p0\\Lib\\tkinter\\__init__.py\", line 2896, in delete\n",
      "    self.tk.call((self._w, 'delete') + args)\n",
      "RuntimeError: main thread is not in main loop\n"
     ]
    }
   ],
   "source": [
    "### キャンバス作成\n",
    "canvas = tkinter.Canvas(master=None, width=200, height=100)\n",
    " \n",
    "### キャンバス表示\n",
    "canvas.pack()\n",
    " \n",
    "### スレッド作成\n",
    "thread = threading.Thread(target=get_time, daemon=True)\n",
    " \n",
    "### スレッド開始\n",
    "thread.start()\n",
    " \n",
    "### イベントループ\n",
    "canvas.mainloop()"
   ]
  },
  {
   "cell_type": "code",
   "execution_count": null,
   "metadata": {},
   "outputs": [],
   "source": []
  }
 ],
 "metadata": {
  "kernelspec": {
   "display_name": ".venv",
   "language": "python",
   "name": "python3"
  },
  "language_info": {
   "codemirror_mode": {
    "name": "ipython",
    "version": 3
   },
   "file_extension": ".py",
   "mimetype": "text/x-python",
   "name": "python",
   "nbconvert_exporter": "python",
   "pygments_lexer": "ipython3",
   "version": "3.11.9"
  }
 },
 "nbformat": 4,
 "nbformat_minor": 2
}
