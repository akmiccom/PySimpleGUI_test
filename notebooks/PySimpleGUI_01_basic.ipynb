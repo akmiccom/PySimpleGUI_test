{
 "cells": [
  {
   "cell_type": "markdown",
   "metadata": {},
   "source": [
    "# PySimpleGUI 参考サイト\n",
    "- [PysimpleGui入門](https://zenn.dev/torachi0401/articles/pysimplegui_articles#21-%E4%BD%BF%E7%94%A8%E6%96%B9%E6%B3%95%E3%81%AE%E6%A6%82%E8%A6%81)\n",
    "- [docs.pysimplegui.com](https://docs.pysimplegui.com/en/latest/)\n",
    "- [github PySimpleGUI](https://github.com/PySimpleGUI/PySimpleGUI)\n",
    "- [PySimpleGUI.pdf](https://github.com/nkatsu2018/PubDoc/blob/master/Python/PySimpleGUI.pdf)"
   ]
  },
  {
   "cell_type": "code",
   "execution_count": 1,
   "metadata": {},
   "outputs": [],
   "source": [
    "import PySimpleGUI as sg"
   ]
  },
  {
   "cell_type": "markdown",
   "metadata": {},
   "source": [
    "PySimpleGUTの基本"
   ]
  },
  {
   "cell_type": "code",
   "execution_count": 2,
   "metadata": {},
   "outputs": [
    {
     "data": {
      "text/plain": [
       "'Dark'"
      ]
     },
     "execution_count": 2,
     "metadata": {},
     "output_type": "execute_result"
    }
   ],
   "source": [
    "sg.theme('Dark')\n",
    "# sg.set_options(element_padding=(0, 0))"
   ]
  },
  {
   "cell_type": "code",
   "execution_count": 3,
   "metadata": {},
   "outputs": [],
   "source": [
    "layout = [\n",
    "    [sg.Text('Hello, PySimpleGUT!', key='output_text')],\n",
    "    [sg.Button(\"Update\")],\n",
    "]\n",
    "window = sg.Window('Title', layout=layout)"
   ]
  },
  {
   "cell_type": "code",
   "execution_count": 4,
   "metadata": {},
   "outputs": [],
   "source": [
    "while True:\n",
    "    event, values = window.read()\n",
    "    if event == sg.WIN_CLOSED:\n",
    "        break\n",
    "    if event == 'Update':\n",
    "        # sg.popup('OK button clicked!')\n",
    "        window['output_text'].update('Updated text!')\n",
    "\n",
    "window.close()"
   ]
  },
  {
   "cell_type": "markdown",
   "metadata": {},
   "source": [
    "ウィジェット"
   ]
  },
  {
   "cell_type": "markdown",
   "metadata": {},
   "source": [
    "テキスト、画像"
   ]
  },
  {
   "cell_type": "code",
   "execution_count": 7,
   "metadata": {},
   "outputs": [],
   "source": [
    "layout = [\n",
    "    [sg.Text('Hello, PySimpleGUI!')],\n",
    "    [sg.Image(r'../images/emojis/blank_stare_28.png')],\n",
    "]\n",
    "window = sg.Window('Title', layout=layout)\n",
    "\n",
    "while True:\n",
    "    event, values = window.read()\n",
    "    if event == sg.WIN_CLOSED:\n",
    "        break\n",
    "\n",
    "window.close()"
   ]
  },
  {
   "cell_type": "markdown",
   "metadata": {},
   "source": [
    "文字入力"
   ]
  },
  {
   "cell_type": "code",
   "execution_count": 3,
   "metadata": {},
   "outputs": [],
   "source": [
    "layout = [\n",
    "    [sg.Text('Enter your name:'), sg.InputText()],\n",
    "    [sg.Text('Enter your password:'), sg.InputText(password_char='*')],\n",
    "    [sg.Button('Submit')],\n",
    "    \n",
    "]\n",
    "window = sg.Window('Text Widget Example', layout=layout)\n",
    "\n",
    "while True:\n",
    "    event, values = window.read()\n",
    "    if event == sg.WIN_CLOSED:\n",
    "        break\n",
    "    if event == \"Submit\":\n",
    "        name = values[0]\n",
    "        password = values[1]\n",
    "        sg.popup(f\"Name: {name}\\nPassword: {password}\")\n",
    "\n",
    "window.close()"
   ]
  },
  {
   "cell_type": "markdown",
   "metadata": {},
   "source": [
    "Miltiline"
   ]
  },
  {
   "cell_type": "code",
   "execution_count": 13,
   "metadata": {},
   "outputs": [],
   "source": [
    "layout = [\n",
    "    [sg.Multiline('Enter your notes here:', size=(30, 5))],\n",
    "    [sg.Button('Save')],\n",
    "]\n",
    "window = sg.Window('Text Widget Example', layout=layout)\n",
    "\n",
    "while True:\n",
    "    event, values = window.read()\n",
    "    if event == sg.WIN_CLOSED:\n",
    "        break\n",
    "    if event == 'Save':\n",
    "        notes = values[0]\n",
    "        sg.popup(f'Notes saved: \\n{notes}')\n",
    "\n",
    "window.close()"
   ]
  },
  {
   "cell_type": "markdown",
   "metadata": {},
   "source": [
    "ボタン"
   ]
  },
  {
   "cell_type": "code",
   "execution_count": 8,
   "metadata": {},
   "outputs": [],
   "source": [
    "layout = [\n",
    "    [sg.Button('Click me')],\n",
    "]\n",
    "window = sg.Window('Text Widget Example', layout=layout)\n",
    "\n",
    "while True:\n",
    "    event, values = window.read()\n",
    "    if event == sg.WIN_CLOSED:\n",
    "        break\n",
    "    if event == 'Click me':\n",
    "        sg.popup('Button clicked!')\n",
    "\n",
    "window.close()"
   ]
  },
  {
   "cell_type": "markdown",
   "metadata": {},
   "source": [
    "Checkbox"
   ]
  },
  {
   "cell_type": "code",
   "execution_count": 10,
   "metadata": {},
   "outputs": [],
   "source": [
    "layout = [\n",
    "    [sg.Checkbox('Enable feature A'), sg.Checkbox('Enabel feature B')],\n",
    "    [sg.Button('Submit')],\n",
    "]\n",
    "window = sg.Window('Title', layout=layout)\n",
    "\n",
    "while True:\n",
    "    event, values = window.read()\n",
    "    if event == sg.WIN_CLOSED:\n",
    "        break\n",
    "    if event == 'Submit':\n",
    "        feature_a = values[0]\n",
    "        feature_b = values[1]\n",
    "        sg.popup(f'Feature A: {feature_a}\\nFeature B: {feature_b}')\n",
    "\n",
    "window.close()"
   ]
  },
  {
   "cell_type": "markdown",
   "metadata": {},
   "source": [
    "Radio"
   ]
  },
  {
   "cell_type": "code",
   "execution_count": 15,
   "metadata": {},
   "outputs": [],
   "source": [
    "layout = [\n",
    "    [sg.Radio('Option 1', 'radio_group', default=True), sg.Radio('Option 2', 'radio_group')],\n",
    "    [sg.Button('Submit')],\n",
    "]\n",
    "window = sg.Window('Title', layout=layout)\n",
    "\n",
    "while True:\n",
    "    event, values = window.read()\n",
    "    if event == sg.WIN_CLOSED:\n",
    "        break\n",
    "    if event == 'Submit':\n",
    "        option = 'Option 1' if values[0] else 'Option 2'\n",
    "        sg.popup(f'Selected option: {option}')\n",
    "\n",
    "window.close()"
   ]
  },
  {
   "cell_type": "markdown",
   "metadata": {},
   "source": [
    "選択入力"
   ]
  },
  {
   "cell_type": "code",
   "execution_count": 25,
   "metadata": {},
   "outputs": [],
   "source": [
    "choices = [f'Option {i+1}' for i in range(10)]\n",
    "layout = [\n",
    "    [sg.Listbox(choices, size=(20, len(choices)//2))],\n",
    "    [sg.Button('Submit')],\n",
    "]\n",
    "window = sg.Window('Title', layout=layout)\n",
    "\n",
    "while True:\n",
    "    event, values = window.read()\n",
    "    if event == sg.WIN_CLOSED:\n",
    "        break\n",
    "    if event == 'Submit':\n",
    "        selected_option = values[0]\n",
    "        sg.popup(f'Selected option: {\", \".join(selected_option)}')\n",
    "\n",
    "window.close()"
   ]
  },
  {
   "cell_type": "markdown",
   "metadata": {},
   "source": [
    "Spin"
   ]
  },
  {
   "cell_type": "code",
   "execution_count": 26,
   "metadata": {},
   "outputs": [],
   "source": [
    "layout = [\n",
    "    [sg.Spin(values=list(range(1, 11)), initial_value=5, size=(5, 1))],\n",
    "    [sg.Button(\"Submit\")]\n",
    "]\n",
    "window = sg.Window(\"Spin Widget Example\", layout)\n",
    "\n",
    "while True:\n",
    "    event, values = window.read()\n",
    "    if event == sg.WIN_CLOSED:\n",
    "        break\n",
    "    if event == \"Submit\":\n",
    "        selected_value = values[0]\n",
    "        sg.popup(f\"Selected value: {selected_value}\")\n",
    "\n",
    "window.close()"
   ]
  },
  {
   "cell_type": "markdown",
   "metadata": {},
   "source": [
    "Slider"
   ]
  },
  {
   "cell_type": "code",
   "execution_count": 27,
   "metadata": {},
   "outputs": [],
   "source": [
    "import PySimpleGUI as sg\n",
    "\n",
    "layout = [\n",
    "    [sg.Slider(range=(0, 100), default_value=50, orientation=\"h\", size=(20, 15))],\n",
    "    [sg.Button(\"Submit\")]\n",
    "]\n",
    "window = sg.Window(\"Slider Widget Example\", layout)\n",
    "\n",
    "while True:\n",
    "    event, values = window.read()\n",
    "    if event == sg.WIN_CLOSED:\n",
    "        break\n",
    "    if event == \"Submit\":\n",
    "        selected_value = values[0]\n",
    "        sg.popup(f\"Selected value: {selected_value}\")\n",
    "\n",
    "window.close()"
   ]
  },
  {
   "cell_type": "markdown",
   "metadata": {},
   "source": [
    "枠、区切り線"
   ]
  },
  {
   "cell_type": "markdown",
   "metadata": {},
   "source": [
    "Frame"
   ]
  },
  {
   "cell_type": "code",
   "execution_count": 29,
   "metadata": {},
   "outputs": [],
   "source": [
    "layout = [\n",
    "    [sg.Frame('Group 1', [[sg.Text('Widget 1')]])],\n",
    "    [sg.Frame('Group 2', [[sg.Text('Widget 2')]])],\n",
    "    [sg.Button(\"Submit\")],\n",
    "]\n",
    "window = sg.Window(\"Frame Widget Example\", layout)\n",
    "\n",
    "while True:\n",
    "    event, values = window.read()\n",
    "    if event == sg.WIN_CLOSED:\n",
    "        break\n",
    "    if event == \"Submit\":\n",
    "        sg.popup(\"Submit button clicked!\")\n",
    "\n",
    "window.close()"
   ]
  },
  {
   "cell_type": "markdown",
   "metadata": {},
   "source": [
    "VerticalSeparator"
   ]
  },
  {
   "cell_type": "code",
   "execution_count": 31,
   "metadata": {},
   "outputs": [],
   "source": [
    "layout = [\n",
    "    [sg.Text('Left side'), sg.VerticalSeparator(), sg.Text('Right side')],\n",
    "    [sg.Button(\"Submit\")],\n",
    "]\n",
    "window = sg.Window(\"Title\", layout)\n",
    "\n",
    "while True:\n",
    "    event, values = window.read()\n",
    "    if event == sg.WIN_CLOSED:\n",
    "        break\n",
    "    if event == \"Submit\":\n",
    "        sg.popup(\"Submit button clicked!\")\n",
    "\n",
    "window.close()"
   ]
  },
  {
   "cell_type": "markdown",
   "metadata": {},
   "source": [
    "進捗バー"
   ]
  },
  {
   "cell_type": "code",
   "execution_count": 23,
   "metadata": {},
   "outputs": [],
   "source": [
    "layout = [\n",
    "    [sg.ProgressBar(100, orientation='h', size=(20, 15), key='ProgressBar')],\n",
    "    [sg.Button('Start')],\n",
    "]\n",
    "window = sg.Window(\"Title\", layout)\n",
    "\n",
    "while True:\n",
    "    event, values = window.read()\n",
    "    if event == sg.WIN_CLOSED:\n",
    "        break\n",
    "    if event == 'Start':\n",
    "        progress_bar = window['ProgressBar']\n",
    "        for i in range(1, 101):\n",
    "            event, values = window.read(timeout=1)\n",
    "            progress_bar.UpdateBar(i)\n",
    "        sg.popup(\"Task completed!\")\n",
    "\n",
    "window.close()"
   ]
  },
  {
   "cell_type": "markdown",
   "metadata": {},
   "source": [
    "表、ツリー"
   ]
  },
  {
   "cell_type": "markdown",
   "metadata": {},
   "source": [
    "Table"
   ]
  },
  {
   "cell_type": "code",
   "execution_count": 8,
   "metadata": {},
   "outputs": [],
   "source": [
    "import PySimpleGUI as sg\n",
    "\n",
    "data = [[\"John\", 25, \"Male\"], [\"Emily\", 30, \"Female\"], [\"Michael\", 28, \"Male\"]]\n",
    "layout = [\n",
    "    [\n",
    "        sg.Table(\n",
    "            values=data,\n",
    "            headings=[\"Name\", \"Age\", \"Gender\"],\n",
    "            display_row_numbers=False,\n",
    "            auto_size_columns=False,\n",
    "            justification=\"right\",\n",
    "        )\n",
    "    ],\n",
    "    [sg.Button(\"Submit\")],\n",
    "]\n",
    "window = sg.Window(\"Table Widget Example\", layout)\n",
    "\n",
    "while True:\n",
    "    event, values = window.read()\n",
    "    if event == sg.WIN_CLOSED:\n",
    "        break\n",
    "    if event == \"Submit\":\n",
    "        sg.popup(\"Submit button clicked!\")\n",
    "\n",
    "window.close()"
   ]
  },
  {
   "cell_type": "markdown",
   "metadata": {},
   "source": [
    "Tree(要調査)"
   ]
  },
  {
   "cell_type": "code",
   "execution_count": null,
   "metadata": {},
   "outputs": [],
   "source": [
    "import PySimpleGUI as sg\n",
    "\n",
    "data = {\"Folder 1\": [\"File 1-1\", \"File 1-2\"], \"Folder 2\": [\"File 2-1\", \"File 2-2\"]}\n",
    "layout = [\n",
    "    [\n",
    "        sg.Tree(\n",
    "            data,\n",
    "            headings=[\"Folders\", \"Files\"],\n",
    "            auto_size_columns=True,\n",
    "            num_rows=10,\n",
    "            col_widths=[30, 20],\n",
    "        )\n",
    "    ],\n",
    "    [sg.Button(\"Submit\")],\n",
    "]\n",
    "window = sg.Window(\"Tree Widget Example\", layout)\n",
    "\n",
    "while True:\n",
    "    event, values = window.read()\n",
    "    if event == sg.WIN_CLOSED:\n",
    "        break\n",
    "    if event == \"Submit\":\n",
    "        sg.popup(\"Submit button clicked!\")\n",
    "\n",
    "window.close()"
   ]
  },
  {
   "cell_type": "markdown",
   "metadata": {},
   "source": [
    "その他の表示"
   ]
  },
  {
   "cell_type": "markdown",
   "metadata": {},
   "source": [
    "Tab, TabGroup"
   ]
  },
  {
   "cell_type": "code",
   "execution_count": 1,
   "metadata": {},
   "outputs": [],
   "source": [
    "import PySimpleGUI as sg\n",
    "\n",
    "tab1_layout = [[sg.Text(\"Content of Tab 1\")]]\n",
    "tab2_layout = [[sg.Text(\"Content of Tab 2\")]]\n",
    "layout = [\n",
    "    [sg.TabGroup([[sg.Tab(\"Tab 1\", tab1_layout)], [sg.Tab(\"Tab 2\", tab2_layout)]])],\n",
    "    [sg.Button(\"Submit\")],\n",
    "]\n",
    "window = sg.Window(\"Tab Widget Example\", layout)\n",
    "\n",
    "while True:\n",
    "    event, values = window.read()\n",
    "    if event == sg.WIN_CLOSED:\n",
    "        break\n",
    "    if event == \"Submit\":\n",
    "        sg.popup(\"Submit button clicked!\")\n",
    "\n",
    "window.close()"
   ]
  },
  {
   "cell_type": "markdown",
   "metadata": {},
   "source": [
    "Pane, Coulmn(要調査)"
   ]
  },
  {
   "cell_type": "code",
   "execution_count": 3,
   "metadata": {},
   "outputs": [
    {
     "ename": "AttributeError",
     "evalue": "'list' object has no attribute 'Type'",
     "output_type": "error",
     "traceback": [
      "\u001b[1;31m---------------------------------------------------------------------------\u001b[0m",
      "\u001b[1;31mAttributeError\u001b[0m                            Traceback (most recent call last)",
      "Cell \u001b[1;32mIn[3], line 8\u001b[0m\n\u001b[0;32m      1\u001b[0m \u001b[38;5;28;01mimport\u001b[39;00m \u001b[38;5;21;01mPySimpleGUI\u001b[39;00m \u001b[38;5;28;01mas\u001b[39;00m \u001b[38;5;21;01msg\u001b[39;00m\n\u001b[0;32m      3\u001b[0m layout \u001b[38;5;241m=\u001b[39m [\n\u001b[0;32m      4\u001b[0m     [sg\u001b[38;5;241m.\u001b[39mPane([[sg\u001b[38;5;241m.\u001b[39mText(\u001b[38;5;124m\"\u001b[39m\u001b[38;5;124mPane 1\u001b[39m\u001b[38;5;124m\"\u001b[39m)]], size\u001b[38;5;241m=\u001b[39m(\u001b[38;5;241m200\u001b[39m, \u001b[38;5;241m100\u001b[39m))],\n\u001b[0;32m      5\u001b[0m     [sg\u001b[38;5;241m.\u001b[39mColumn([[sg\u001b[38;5;241m.\u001b[39mText(\u001b[38;5;124m\"\u001b[39m\u001b[38;5;124mColumn 1\u001b[39m\u001b[38;5;124m\"\u001b[39m)]], size\u001b[38;5;241m=\u001b[39m(\u001b[38;5;241m200\u001b[39m, \u001b[38;5;241m100\u001b[39m))],\n\u001b[0;32m      6\u001b[0m     [sg\u001b[38;5;241m.\u001b[39mButton(\u001b[38;5;124m\"\u001b[39m\u001b[38;5;124mSubmit\u001b[39m\u001b[38;5;124m\"\u001b[39m)],\n\u001b[0;32m      7\u001b[0m ]\n\u001b[1;32m----> 8\u001b[0m window \u001b[38;5;241m=\u001b[39m \u001b[43msg\u001b[49m\u001b[38;5;241;43m.\u001b[39;49m\u001b[43mWindow\u001b[49m\u001b[43m(\u001b[49m\u001b[38;5;124;43m\"\u001b[39;49m\u001b[38;5;124;43mPane and Column Widget Example\u001b[39;49m\u001b[38;5;124;43m\"\u001b[39;49m\u001b[43m,\u001b[49m\u001b[43m \u001b[49m\u001b[43mlayout\u001b[49m\u001b[43m)\u001b[49m\n\u001b[0;32m     10\u001b[0m \u001b[38;5;28;01mwhile\u001b[39;00m \u001b[38;5;28;01mTrue\u001b[39;00m:\n\u001b[0;32m     11\u001b[0m     event, values \u001b[38;5;241m=\u001b[39m window\u001b[38;5;241m.\u001b[39mread()\n",
      "File \u001b[1;32m~\\AppData\\Local\\Packages\\PythonSoftwareFoundation.Python.3.11_qbz5n2kfra8p0\\LocalCache\\local-packages\\Python311\\site-packages\\PySimpleGUI\\PySimpleGUI.py:9972\u001b[0m, in \u001b[0;36mWindow.__init__\u001b[1;34m(self, title, layout, default_element_size, default_button_element_size, auto_size_text, auto_size_buttons, location, relative_location, auto_save_location, size, element_padding, margins, button_color, font, progress_bar_color, background_color, border_depth, auto_close, auto_close_duration, icon, force_toplevel, alpha_channel, return_keyboard_events, use_default_focus, text_justification, no_titlebar, grab_anywhere, grab_anywhere_using_control, keep_on_top, resizable, disable_close, disable_minimize, right_click_menu, transparent_color, debugger_enabled, right_click_menu_background_color, right_click_menu_text_color, right_click_menu_disabled_text_color, right_click_menu_selected_colors, right_click_menu_font, right_click_menu_tearoff, finalize, element_justification, ttk_theme, use_ttk_buttons, modal, enable_close_attempted_event, enable_window_config_events, repeating_timer_ms, titlebar_background_color, titlebar_text_color, titlebar_font, titlebar_icon, use_custom_titlebar, scaling, sbar_trough_color, sbar_background_color, sbar_arrow_color, sbar_width, sbar_arrow_width, sbar_frame_color, sbar_relief, watermark, print_event_values, metadata)\u001b[0m\n\u001b[0;32m   9969\u001b[0m     warnings\u001b[38;5;241m.\u001b[39mwarn(\u001b[38;5;124m'\u001b[39m\u001b[38;5;124mYour layout is not a list or tuple... this is not good!\u001b[39m\u001b[38;5;124m'\u001b[39m)\n\u001b[0;32m   9971\u001b[0m \u001b[38;5;28;01mif\u001b[39;00m layout \u001b[38;5;129;01mis\u001b[39;00m \u001b[38;5;129;01mnot\u001b[39;00m \u001b[38;5;28;01mNone\u001b[39;00m:\n\u001b[1;32m-> 9972\u001b[0m     \u001b[38;5;28;43mself\u001b[39;49m\u001b[38;5;241;43m.\u001b[39;49m\u001b[43mLayout\u001b[49m\u001b[43m(\u001b[49m\u001b[43mlayout\u001b[49m\u001b[43m)\u001b[49m\n\u001b[0;32m   9973\u001b[0m     \u001b[38;5;28;01mif\u001b[39;00m finalize \u001b[38;5;129;01mor\u001b[39;00m \u001b[38;5;28mself\u001b[39m\u001b[38;5;241m.\u001b[39mrepeating_timer_ms:\n\u001b[0;32m   9974\u001b[0m         \u001b[38;5;28mself\u001b[39m\u001b[38;5;241m.\u001b[39mFinalize()\n",
      "File \u001b[1;32m~\\AppData\\Local\\Packages\\PythonSoftwareFoundation.Python.3.11_qbz5n2kfra8p0\\LocalCache\\local-packages\\Python311\\site-packages\\PySimpleGUI\\PySimpleGUI.py:10162\u001b[0m, in \u001b[0;36mWindow.layout\u001b[1;34m(self, rows)\u001b[0m\n\u001b[0;32m  10160\u001b[0m     new_rows \u001b[38;5;241m=\u001b[39m rows\n\u001b[0;32m  10161\u001b[0m \u001b[38;5;28mself\u001b[39m\u001b[38;5;241m.\u001b[39madd_rows(new_rows)\n\u001b[1;32m> 10162\u001b[0m \u001b[38;5;28;43mself\u001b[39;49m\u001b[38;5;241;43m.\u001b[39;49m\u001b[43m_BuildKeyDict\u001b[49m\u001b[43m(\u001b[49m\u001b[43m)\u001b[49m\n\u001b[0;32m  10164\u001b[0m \u001b[38;5;28;01mif\u001b[39;00m \u001b[38;5;28mself\u001b[39m\u001b[38;5;241m.\u001b[39m_has_custom_titlebar_element():\n\u001b[0;32m  10165\u001b[0m     \u001b[38;5;28mself\u001b[39m\u001b[38;5;241m.\u001b[39mMargins \u001b[38;5;241m=\u001b[39m (\u001b[38;5;241m0\u001b[39m, \u001b[38;5;241m0\u001b[39m)\n",
      "File \u001b[1;32m~\\AppData\\Local\\Packages\\PythonSoftwareFoundation.Python.3.11_qbz5n2kfra8p0\\LocalCache\\local-packages\\Python311\\site-packages\\PySimpleGUI\\PySimpleGUI.py:10867\u001b[0m, in \u001b[0;36mWindow._BuildKeyDict\u001b[1;34m(self)\u001b[0m\n\u001b[0;32m  10862\u001b[0m \u001b[38;5;250m\u001b[39m\u001b[38;5;124;03m\"\"\"\u001b[39;00m\n\u001b[0;32m  10863\u001b[0m \u001b[38;5;124;03mUsed internally only! Not user callable\u001b[39;00m\n\u001b[0;32m  10864\u001b[0m \u001b[38;5;124;03mBuilds a dictionary containing all elements with keys for this window.\u001b[39;00m\n\u001b[0;32m  10865\u001b[0m \u001b[38;5;124;03m\"\"\"\u001b[39;00m\n\u001b[0;32m  10866\u001b[0m \u001b[38;5;28mdict\u001b[39m \u001b[38;5;241m=\u001b[39m {}\n\u001b[1;32m> 10867\u001b[0m \u001b[38;5;28mself\u001b[39m\u001b[38;5;241m.\u001b[39mAllKeysDict \u001b[38;5;241m=\u001b[39m \u001b[38;5;28;43mself\u001b[39;49m\u001b[38;5;241;43m.\u001b[39;49m\u001b[43m_BuildKeyDictForWindow\u001b[49m\u001b[43m(\u001b[49m\u001b[38;5;28;43mself\u001b[39;49m\u001b[43m,\u001b[49m\u001b[43m \u001b[49m\u001b[38;5;28;43mself\u001b[39;49m\u001b[43m,\u001b[49m\u001b[43m \u001b[49m\u001b[38;5;28;43mdict\u001b[39;49m\u001b[43m)\u001b[49m\n",
      "File \u001b[1;32m~\\AppData\\Local\\Packages\\PythonSoftwareFoundation.Python.3.11_qbz5n2kfra8p0\\LocalCache\\local-packages\\Python311\\site-packages\\PySimpleGUI\\PySimpleGUI.py:10892\u001b[0m, in \u001b[0;36mWindow._BuildKeyDictForWindow\u001b[1;34m(self, top_window, window, key_dict)\u001b[0m\n\u001b[0;32m  10890\u001b[0m     key_dict \u001b[38;5;241m=\u001b[39m \u001b[38;5;28mself\u001b[39m\u001b[38;5;241m.\u001b[39m_BuildKeyDictForWindow(top_window, element, key_dict)\n\u001b[0;32m  10891\u001b[0m \u001b[38;5;28;01mif\u001b[39;00m element\u001b[38;5;241m.\u001b[39mType \u001b[38;5;241m==\u001b[39m ELEM_TYPE_PANE:\n\u001b[1;32m> 10892\u001b[0m     key_dict \u001b[38;5;241m=\u001b[39m \u001b[38;5;28;43mself\u001b[39;49m\u001b[38;5;241;43m.\u001b[39;49m\u001b[43m_BuildKeyDictForWindow\u001b[49m\u001b[43m(\u001b[49m\u001b[43mtop_window\u001b[49m\u001b[43m,\u001b[49m\u001b[43m \u001b[49m\u001b[43melement\u001b[49m\u001b[43m,\u001b[49m\u001b[43m \u001b[49m\u001b[43mkey_dict\u001b[49m\u001b[43m)\u001b[49m\n\u001b[0;32m  10893\u001b[0m \u001b[38;5;28;01mif\u001b[39;00m element\u001b[38;5;241m.\u001b[39mType \u001b[38;5;241m==\u001b[39m ELEM_TYPE_TAB:\n\u001b[0;32m  10894\u001b[0m     key_dict \u001b[38;5;241m=\u001b[39m \u001b[38;5;28mself\u001b[39m\u001b[38;5;241m.\u001b[39m_BuildKeyDictForWindow(top_window, element, key_dict)\n",
      "File \u001b[1;32m~\\AppData\\Local\\Packages\\PythonSoftwareFoundation.Python.3.11_qbz5n2kfra8p0\\LocalCache\\local-packages\\Python311\\site-packages\\PySimpleGUI\\PySimpleGUI.py:10885\u001b[0m, in \u001b[0;36mWindow._BuildKeyDictForWindow\u001b[1;34m(self, top_window, window, key_dict)\u001b[0m\n\u001b[0;32m  10883\u001b[0m \u001b[38;5;28;01mfor\u001b[39;00m row_num, row \u001b[38;5;129;01min\u001b[39;00m \u001b[38;5;28menumerate\u001b[39m(window\u001b[38;5;241m.\u001b[39mRows):\n\u001b[0;32m  10884\u001b[0m     \u001b[38;5;28;01mfor\u001b[39;00m col_num, element \u001b[38;5;129;01min\u001b[39;00m \u001b[38;5;28menumerate\u001b[39m(row):\n\u001b[1;32m> 10885\u001b[0m         \u001b[38;5;28;01mif\u001b[39;00m \u001b[43melement\u001b[49m\u001b[38;5;241;43m.\u001b[39;49m\u001b[43mType\u001b[49m \u001b[38;5;241m==\u001b[39m ELEM_TYPE_COLUMN:\n\u001b[0;32m  10886\u001b[0m             key_dict \u001b[38;5;241m=\u001b[39m \u001b[38;5;28mself\u001b[39m\u001b[38;5;241m.\u001b[39m_BuildKeyDictForWindow(top_window, element, key_dict)\n\u001b[0;32m  10887\u001b[0m         \u001b[38;5;28;01mif\u001b[39;00m element\u001b[38;5;241m.\u001b[39mType \u001b[38;5;241m==\u001b[39m ELEM_TYPE_FRAME:\n",
      "\u001b[1;31mAttributeError\u001b[0m: 'list' object has no attribute 'Type'"
     ]
    }
   ],
   "source": [
    "import PySimpleGUI as sg\n",
    "\n",
    "layout = [\n",
    "    [sg.Pane([[sg.Text(\"Pane 1\")]], size=(200, 100))],\n",
    "    [sg.Column([[sg.Text(\"Column 1\")]], size=(200, 100))],\n",
    "    [sg.Button(\"Submit\")],\n",
    "]\n",
    "window = sg.Window(\"Pane and Column Widget Example\", layout)\n",
    "\n",
    "while True:\n",
    "    event, values = window.read()\n",
    "    if event == sg.WIN_CLOSED:\n",
    "        break\n",
    "    if event == \"Submit\":\n",
    "        sg.popup(\"Submit button clicked!\")\n",
    "\n",
    "window.close()"
   ]
  },
  {
   "cell_type": "markdown",
   "metadata": {},
   "source": [
    "メニュー"
   ]
  },
  {
   "cell_type": "markdown",
   "metadata": {},
   "source": [
    "OptionMenu"
   ]
  },
  {
   "cell_type": "code",
   "execution_count": 4,
   "metadata": {},
   "outputs": [],
   "source": [
    "import PySimpleGUI as sg\n",
    "\n",
    "choices = [\"Option 1\", \"Option 2\", \"Option 3\"]\n",
    "layout = [\n",
    "    [sg.OptionMenu(choices, default_value=\"Option 1\")],\n",
    "    [sg.Button(\"Submit\")]\n",
    "]\n",
    "window = sg.Window(\"OptionMenu Widget Example\", layout)\n",
    "\n",
    "while True:\n",
    "    event, values = window.read()\n",
    "    if event == sg.WIN_CLOSED:\n",
    "        break\n",
    "    if event == \"Submit\":\n",
    "        selected_option = values[0]\n",
    "        sg.popup(f\"Selected option: {selected_option}\")\n",
    "\n",
    "window.close()"
   ]
  },
  {
   "cell_type": "markdown",
   "metadata": {},
   "source": [
    "MenuBar"
   ]
  },
  {
   "cell_type": "code",
   "execution_count": 5,
   "metadata": {},
   "outputs": [],
   "source": [
    "import PySimpleGUI as sg\n",
    "\n",
    "menu_def = [\n",
    "    [\"File\", [\"Open\", \"Save\", \"Exit\"]],\n",
    "    [\"Edit\", [\"Cut\", \"Copy\", \"Paste\"]]\n",
    "]\n",
    "layout = [\n",
    "    [sg.Menu(menu_def)],\n",
    "    [sg.Button(\"Submit\")]\n",
    "]\n",
    "window = sg.Window(\"MenuBar Widget Example\", layout)\n",
    "\n",
    "while True:\n",
    "    event, values = window.read()\n",
    "    if event == sg.WIN_CLOSED:\n",
    "        break\n",
    "    if event == \"Submit\":\n",
    "        sg.popup(\"Submit button clicked!\")\n",
    "\n",
    "window.close()"
   ]
  },
  {
   "cell_type": "markdown",
   "metadata": {},
   "source": [
    "ButtonMenu"
   ]
  },
  {
   "cell_type": "code",
   "execution_count": 6,
   "metadata": {},
   "outputs": [],
   "source": [
    "import PySimpleGUI as sg\n",
    "\n",
    "layout = [\n",
    "    [sg.ButtonMenu(\"Options\", menu_def=[\n",
    "        [\"Option 1\", \"Option 2\", \"Option 3\"],\n",
    "        [\"Option 4\", \"Option 5\", \"Option 6\"]\n",
    "    ])],\n",
    "    [sg.Button(\"Submit\")]\n",
    "]\n",
    "window = sg.Window(\"ButtonMenu Widget Example\", layout)\n",
    "\n",
    "while True:\n",
    "    event, values = window.read()\n",
    "    if event == sg.WIN_CLOSED:\n",
    "        break\n",
    "    if event == \"Submit\":\n",
    "        sg.popup(\"Submit button clicked!\")\n",
    "\n",
    "window.close()"
   ]
  },
  {
   "cell_type": "markdown",
   "metadata": {},
   "source": [
    "Canvas(要調査)"
   ]
  },
  {
   "cell_type": "code",
   "execution_count": 7,
   "metadata": {},
   "outputs": [
    {
     "ename": "AttributeError",
     "evalue": "'Canvas' object has no attribute 'draw_circle'",
     "output_type": "error",
     "traceback": [
      "\u001b[1;31m---------------------------------------------------------------------------\u001b[0m",
      "\u001b[1;31mAttributeError\u001b[0m                            Traceback (most recent call last)",
      "Cell \u001b[1;32mIn[7], line 15\u001b[0m\n\u001b[0;32m     13\u001b[0m     \u001b[38;5;28;01mif\u001b[39;00m event \u001b[38;5;241m==\u001b[39m \u001b[38;5;124m\"\u001b[39m\u001b[38;5;124mDraw Circle\u001b[39m\u001b[38;5;124m\"\u001b[39m:\n\u001b[0;32m     14\u001b[0m         canvas \u001b[38;5;241m=\u001b[39m window[\u001b[38;5;124m\"\u001b[39m\u001b[38;5;124m-CANVAS-\u001b[39m\u001b[38;5;124m\"\u001b[39m]\n\u001b[1;32m---> 15\u001b[0m         \u001b[43mcanvas\u001b[49m\u001b[38;5;241;43m.\u001b[39;49m\u001b[43mdraw_circle\u001b[49m((\u001b[38;5;241m100\u001b[39m, \u001b[38;5;241m50\u001b[39m), \u001b[38;5;241m30\u001b[39m, fill_color\u001b[38;5;241m=\u001b[39m\u001b[38;5;124m\"\u001b[39m\u001b[38;5;124mred\u001b[39m\u001b[38;5;124m\"\u001b[39m, line_color\u001b[38;5;241m=\u001b[39m\u001b[38;5;124m\"\u001b[39m\u001b[38;5;124mblack\u001b[39m\u001b[38;5;124m\"\u001b[39m)\n\u001b[0;32m     17\u001b[0m window\u001b[38;5;241m.\u001b[39mclose()\n",
      "\u001b[1;31mAttributeError\u001b[0m: 'Canvas' object has no attribute 'draw_circle'"
     ]
    },
    {
     "ename": "",
     "evalue": "",
     "output_type": "error",
     "traceback": [
      "\u001b[1;31m現在のセルまたは前のセルでコードを実行中に、カーネル (Kernel) がクラッシュしました。\n",
      "\u001b[1;31mエラーの原因を特定するには、セル内のコードを確認してください。\n",
      "\u001b[1;31m詳細については<a href='https://aka.ms/vscodeJupyterKernelCrash'>こちら</a>をクリックします。\n",
      "\u001b[1;31m詳細については、Jupyter <a href='command:jupyter.viewOutput'>ログ</a> を参照してください。"
     ]
    }
   ],
   "source": [
    "import PySimpleGUI as sg\n",
    "\n",
    "layout = [\n",
    "    [sg.Canvas(size=(200, 100), background_color=\"white\", key=\"-CANVAS-\")],\n",
    "    [sg.Button(\"Draw Circle\")]\n",
    "]\n",
    "window = sg.Window(\"Canvas Widget Example\", layout)\n",
    "\n",
    "while True:\n",
    "    event, values = window.read()\n",
    "    if event == sg.WIN_CLOSED:\n",
    "        break\n",
    "    if event == \"Draw Circle\":\n",
    "        canvas = window[\"-CANVAS-\"]\n",
    "        canvas.draw_circle((100, 50), 30, fill_color=\"red\", line_color=\"black\")\n",
    "\n",
    "window.close()"
   ]
  },
  {
   "cell_type": "markdown",
   "metadata": {},
   "source": [
    "ポップアップウィンドウ"
   ]
  },
  {
   "cell_type": "markdown",
   "metadata": {},
   "source": [
    "入力"
   ]
  },
  {
   "cell_type": "code",
   "execution_count": 2,
   "metadata": {},
   "outputs": [],
   "source": [
    "import PySimpleGUI as sg\n",
    "\n",
    "layout = [\n",
    "    [sg.Text(\"Enter your name:\"), sg.InputText(key=\"-NAME-\")],\n",
    "    [sg.Button(\"Submit\")],\n",
    "]\n",
    "\n",
    "window = sg.Window(\"PopupGetText Widget Example\", layout)\n",
    "\n",
    "while True:\n",
    "    event, values = window.read()\n",
    "    if event == sg.WIN_CLOSED:\n",
    "        break\n",
    "    if event == \"Submit\":\n",
    "        user_name = values[\"-NAME-\"]\n",
    "        sg.popup(f\"Hello, {user_name}!\")\n",
    "\n",
    "window.close()"
   ]
  },
  {
   "cell_type": "markdown",
   "metadata": {},
   "source": [
    "報告・確認のためのポップアップ"
   ]
  },
  {
   "cell_type": "code",
   "execution_count": 5,
   "metadata": {},
   "outputs": [],
   "source": [
    "import PySimpleGUI as sg\n",
    "\n",
    "layout = [\n",
    "    [sg.Text(\"Report and Confirmation Popup Example\")],\n",
    "    [sg.Button(\"Show Report\"), sg.Button(\"Confirm Action\")],\n",
    "]\n",
    "\n",
    "window = sg.Window(\"Report and Confirmation Popup Example\", layout)\n",
    "\n",
    "while True:\n",
    "    event, values = window.read()\n",
    "    if event == sg.WIN_CLOSED:\n",
    "        break\n",
    "    if event == \"Show Report\":\n",
    "        sg.popup(\"This is a report message.\", title=\"Report\")\n",
    "    elif event == \"Confirm Action\":\n",
    "        confirm = sg.popup_yes_no(\"Do you want to proceed?\", title=\"Confirmation\")\n",
    "        if confirm == \"Yes\":\n",
    "            sg.popup(\"Action confirmed.\", title=\"Confirmation\")\n",
    "\n",
    "window.close()"
   ]
  },
  {
   "cell_type": "markdown",
   "metadata": {},
   "source": [
    "ウィンドウの扱い"
   ]
  },
  {
   "cell_type": "markdown",
   "metadata": {},
   "source": [
    "リサイズ可能にする設定"
   ]
  },
  {
   "cell_type": "code",
   "execution_count": 11,
   "metadata": {},
   "outputs": [],
   "source": [
    "import PySimpleGUI as sg\n",
    "\n",
    "layout = [\n",
    "    [sg.Text(\"Resizable Window Example\")],\n",
    "    [sg.Button(\"Exit\")]\n",
    "]\n",
    "\n",
    "window = sg.Window(\"Resizable Window Example\", layout, resizable=True)\n",
    "\n",
    "while True:\n",
    "    event, values = window.read()\n",
    "    if event == sg.WIN_CLOSED:\n",
    "        break\n",
    "    if event == 'Exit':\n",
    "        break\n",
    "\n",
    "window.close()"
   ]
  },
  {
   "cell_type": "markdown",
   "metadata": {},
   "source": [
    "ウィンドウのサイズと位置"
   ]
  },
  {
   "cell_type": "code",
   "execution_count": 12,
   "metadata": {},
   "outputs": [],
   "source": [
    "import PySimpleGUI as sg\n",
    "\n",
    "layout = [[sg.Text(\"Window Size and Position Example\")], [sg.Button(\"Exit\")]]\n",
    "\n",
    "window = sg.Window(\n",
    "    \"Window Size and Position Example\", layout, size=(300, 200), location=(100, 100)\n",
    ")\n",
    "\n",
    "while True:\n",
    "    event, values = window.read()\n",
    "    if event == sg.WIN_CLOSED:\n",
    "        break\n",
    "    if event == 'Exit':\n",
    "        break\n",
    "\n",
    "window.close()"
   ]
  },
  {
   "cell_type": "markdown",
   "metadata": {},
   "source": [
    "テーマ設定"
   ]
  },
  {
   "cell_type": "code",
   "execution_count": 1,
   "metadata": {},
   "outputs": [],
   "source": [
    "import PySimpleGUI as sg\n",
    "\n",
    "sg.theme(\"DarkAmber\")  # テーマの設定\n",
    "\n",
    "layout = [\n",
    "    [sg.Text(\"Themed Window Example\")],\n",
    "    [sg.Button(\"Exit\")]\n",
    "]\n",
    "\n",
    "window = sg.Window(\n",
    "    \"Window Size and Position Example\", layout, size=(300, 200), location=(100, 100)\n",
    ")\n",
    "\n",
    "\n",
    "while True:\n",
    "    event, values = window.read()\n",
    "    if event == sg.WIN_CLOSED:\n",
    "        break\n",
    "    if event == 'Exit':\n",
    "        break\n",
    "\n",
    "window.close()"
   ]
  },
  {
   "cell_type": "markdown",
   "metadata": {},
   "source": [
    "タイトルバーの有無"
   ]
  },
  {
   "cell_type": "code",
   "execution_count": 3,
   "metadata": {},
   "outputs": [],
   "source": [
    "import PySimpleGUI as sg\n",
    "\n",
    "layout = [[sg.Text(\"No Title Bar Window Example\")], [sg.Button(\"Exit\")]]\n",
    "\n",
    "window = sg.Window(\n",
    "    \"Window Size and Position Example\",\n",
    "    layout,\n",
    "    size=(300, 200),\n",
    "    location=(100, 100),\n",
    "    no_titlebar=True,\n",
    ")\n",
    "\n",
    "while True:\n",
    "    event, values = window.read()\n",
    "    if event == sg.WIN_CLOSED:\n",
    "        break\n",
    "    if event == \"Exit\":\n",
    "        break\n",
    "\n",
    "window.close()"
   ]
  },
  {
   "cell_type": "markdown",
   "metadata": {},
   "source": [
    "付録"
   ]
  },
  {
   "cell_type": "markdown",
   "metadata": {},
   "source": [
    "テーマ一覧"
   ]
  },
  {
   "cell_type": "code",
   "execution_count": 2,
   "metadata": {},
   "outputs": [],
   "source": [
    "import PySimpleGUI as sg\n",
    "\n",
    "sg.theme(\"Dark Brown\")\n",
    "\n",
    "\n",
    "layout = [\n",
    "    [sg.Text(\"Theme Browser\")],\n",
    "    [sg.Text(\"Click a Theme color to see demo window\")],\n",
    "    [\n",
    "        sg.Listbox(\n",
    "            values=sg.theme_list(), size=(20, 12), key=\"-LIST-\", enable_events=True\n",
    "        )\n",
    "    ],\n",
    "    [sg.Button(\"Exit\")],\n",
    "]\n",
    "\n",
    "window = sg.Window(\"Theme Browser\", layout)\n",
    "\n",
    "while True:  # Event Loop\n",
    "    event, values = window.read()\n",
    "    if event in (sg.WIN_CLOSED, \"Exit\"):\n",
    "        break\n",
    "    sg.theme(values[\"-LIST-\"][0])\n",
    "    sg.popup_get_text(\"This is {}\".format(values[\"-LIST-\"][0]))\n",
    "\n",
    "window.close()"
   ]
  },
  {
   "cell_type": "markdown",
   "metadata": {},
   "source": [
    "matplotlibで作成したグラフをレイアウトに埋め込む方法(要調査)"
   ]
  },
  {
   "cell_type": "code",
   "execution_count": 5,
   "metadata": {},
   "outputs": [
    {
     "ename": "AttributeError",
     "evalue": "module 'PySimpleGUI' has no attribute 'TkinterCanvas'",
     "output_type": "error",
     "traceback": [
      "\u001b[1;31m---------------------------------------------------------------------------\u001b[0m",
      "\u001b[1;31mAttributeError\u001b[0m                            Traceback (most recent call last)",
      "Cell \u001b[1;32mIn[5], line 10\u001b[0m\n\u001b[0;32m      5\u001b[0m root \u001b[38;5;241m=\u001b[39m tk\u001b[38;5;241m.\u001b[39mTk()\n\u001b[0;32m      6\u001b[0m label \u001b[38;5;241m=\u001b[39m tk\u001b[38;5;241m.\u001b[39mLabel(root, text\u001b[38;5;241m=\u001b[39m\u001b[38;5;124m\"\u001b[39m\u001b[38;5;124mHello from Tkinter!\u001b[39m\u001b[38;5;124m\"\u001b[39m)\n\u001b[0;32m      8\u001b[0m layout \u001b[38;5;241m=\u001b[39m [\n\u001b[0;32m      9\u001b[0m     [sg\u001b[38;5;241m.\u001b[39mText(\u001b[38;5;124m\"\u001b[39m\u001b[38;5;124mTkinter Integration Example\u001b[39m\u001b[38;5;124m\"\u001b[39m)],\n\u001b[1;32m---> 10\u001b[0m     [\u001b[43msg\u001b[49m\u001b[38;5;241;43m.\u001b[39;49m\u001b[43mTkinterCanvas\u001b[49m(master\u001b[38;5;241m=\u001b[39mroot, container\u001b[38;5;241m=\u001b[39mlayout, tk_widget\u001b[38;5;241m=\u001b[39mlabel)],\n\u001b[0;32m     11\u001b[0m     [sg\u001b[38;5;241m.\u001b[39mButton(\u001b[38;5;124m\"\u001b[39m\u001b[38;5;124mExit\u001b[39m\u001b[38;5;124m\"\u001b[39m)]\n\u001b[0;32m     12\u001b[0m ]\n\u001b[0;32m     14\u001b[0m window \u001b[38;5;241m=\u001b[39m sg\u001b[38;5;241m.\u001b[39mWindow(\u001b[38;5;124m\"\u001b[39m\u001b[38;5;124mTkinter Integration Example\u001b[39m\u001b[38;5;124m\"\u001b[39m, layout, finalize\u001b[38;5;241m=\u001b[39m\u001b[38;5;28;01mTrue\u001b[39;00m)\n\u001b[0;32m     16\u001b[0m \u001b[38;5;28;01mwhile\u001b[39;00m \u001b[38;5;28;01mTrue\u001b[39;00m:\n",
      "\u001b[1;31mAttributeError\u001b[0m: module 'PySimpleGUI' has no attribute 'TkinterCanvas'"
     ]
    }
   ],
   "source": [
    "import PySimpleGUI as sg\n",
    "import tkinter as tk\n",
    "\n",
    "# Tkinterのウィジェットを作成\n",
    "root = tk.Tk()\n",
    "label = tk.Label(root, text=\"Hello from Tkinter!\")\n",
    "\n",
    "layout = [\n",
    "    [sg.Text(\"Tkinter Integration Example\")],\n",
    "    [sg.TkinterCanvas(master=root, container=layout, tk_widget=label)],\n",
    "    [sg.Button(\"Exit\")]\n",
    "]\n",
    "\n",
    "window = sg.Window(title=\"Tkinter Integration Example\", layout=layout, finalize=True)\n",
    "\n",
    "while True:\n",
    "    event, values = window.read()\n",
    "    if event == sg.WIN_CLOSED:\n",
    "        break\n",
    "\n",
    "root.destroy()  # Tkinterウィンドウを破棄\n",
    "\n",
    "window.close()"
   ]
  },
  {
   "cell_type": "markdown",
   "metadata": {},
   "source": [
    "各引数"
   ]
  },
  {
   "cell_type": "code",
   "execution_count": 2,
   "metadata": {},
   "outputs": [],
   "source": [
    "import PySimpleGUI as sg\n",
    "\n",
    "layout = [\n",
    "    [\n",
    "        sg.Text(\n",
    "            text=\"Hello, PySimpleGUT!\",\n",
    "        ),\n",
    "    ],\n",
    "    [\n",
    "        sg.Button(button_text=\"BTN1\", key=\"-BTN1-\"),\n",
    "        sg.Button(button_text=\"BTN2\", key=\"-BTN2-\"),\n",
    "    ],\n",
    "    [\n",
    "        sg.Button(\n",
    "            button_text=\"EXIT\",\n",
    "            key=\"-EXIT-\",\n",
    "            button_color=(\"red\", \"white\"),\n",
    "            font=(\"impact\", 40),\n",
    "        ),\n",
    "    ],\n",
    "    # [sg.Text(\"raised\", relief=sg.RELIEF_RAISED), sg.Text(\"sunken\", relief=sg.RELIEF_SUNKEN),],\n",
    "    # [sg.Text(\"flat\", relief=sg.RELIEF_FLAT), sg.Text(\"ridge\", relief=sg.RELIEF_RIDGE)],\n",
    "    # [sg.Text(\"groove\", relief=sg.RELIEF_GROOVE), sg.Text(\"solid\", relief=sg.RELIEF_SOLID),],\n",
    "]\n",
    "\n",
    "icon_image=b'iVBORw0KGgoAAAANSUhEUgAAACgAAAAoCAYAAACM/rhtAAAABmJLR0QA/wD/AP+gvaeTAAAAxUlEQVRYhe2YMQrCQBREJ5LeA0l6IeBprDyAlacRAvbBA+UEWikxkP8XZtf9yrxqSVI85s9uQgDB0bwWh9PwqCmy5HruGwBo5xe7blfHZsE43t/rTUWPJCTIIkGW1n/E5rjf0hKX27R6L3yCEmShOwjYHfLwOhw+wfCC5oi9+JnRphI+QQmyuMfMN3pmET7B8IJZ3iQ5vmjWoAVLd7ToiHMkG76DEmQJL+ju4pJHSAqmYO3XHPADI5YgiwRZPnbx/M+m+BeeRV0bpx10FBcAAAAASUVORK5CYII='\n",
    "\n",
    "window = sg.Window(\n",
    "    title=\"Window Title\",\n",
    "    layout=layout,\n",
    "    default_element_size=(50, 10),\n",
    "    # auto_size_text=False,\n",
    "    default_button_element_size=(10, 1),\n",
    "    location=(100, 100),\n",
    "    # relative_location=(-200, -200), # location からの相対位置\n",
    "    # size=(100, 100),\n",
    "    element_padding=((20, 20), (5, 5)),\n",
    "    margins=((10), (10)),\n",
    "    # button_color=('red', 'Black'),\n",
    "    # font=(\"any\", 16),\n",
    "    font=\"Helvetica 12 bold italic\",\n",
    "    # background_color='red',\n",
    "    border_depth=10, # エレメントのボーダー幅\n",
    "    auto_close=True,\n",
    "    auto_close_duration=5,\n",
    "    icon=icon_image, # icon='../images/rockClimbing.jpg',\n",
    "    # alpha_channel=0.5, # 透明度\n",
    "    return_keyboard_events=True, # ??\n",
    "    use_default_focus=True,\n",
    "    text_justification='center', \n",
    "    # no_titlebar=True, # タイトルバー\n",
    "    # grab_anywhere=True, # ドラッグ移動\n",
    "    # grab_anywhere_using_control=True, # +ctrl でドラッグできる\n",
    "    keep_on_top=True, # 最前面表示\n",
    "    # resizable=True, # サイズ変更(no_titlebar=False)\n",
    "    # disable_close=True, # ×ボタン不可\n",
    "    # enable_close_attempted_event=True, # ×ボタンで追加イベント発生\n",
    "    # disable_minimize=True, # 最小化不可\n",
    "    # transparent_color=sg.theme_background_color(), # 透明\n",
    "    right_click_menu=['Unused', ['Right', '!&Click', 'Menu', 'Exit', 'Properties']],\n",
    "    right_click_menu_background_color='yellow',\n",
    "    right_click_menu_text_color='green',\n",
    "    right_click_menu_disabled_text_color='red',\n",
    "    right_click_menu_selected_colors='blue',\n",
    "    right_click_menu_font='any 10 bold italic',\n",
    "    # right_click_menu_tearoff=True, # 別ウインド化\n",
    "    finalize=True, # window.read() までにエレメントにアクセスする場合finalize=Trueを指定\n",
    "    # ttk_theme=sg.THEME_VISTA, # tkinterテーマ指定\n",
    "    # modal=True, # ??\n",
    "    # use_custom_titlebar=True,\n",
    "    # titlebar_background_color='black', # (use_custom_titlebar=True)\n",
    "    # titlebar_font='any 20', # (use_custom_titlebar=True)\n",
    "    # titlebar_icon=icon_image, # (use_custom_titlebar=True)\n",
    "    # scaling=2.0,\n",
    ")\n",
    "\n",
    "while True:\n",
    "    event, values = window.read()\n",
    "    if event in [sg.WIN_CLOSED, \"-EXIT-\"]:\n",
    "        break\n",
    "    elif event in [\"-BTN1-\", \"-BTN2-\", 'Exit']:\n",
    "        sg.popup(\"Close Window!\")\n",
    "        break\n",
    "    # elif event == sg.WINDOW_CLOSE_ATTEMPTED_EVENT:\n",
    "    #     sg.popup(\"Close Window!\")\n",
    "    #     break\n",
    "\n",
    "window.close()"
   ]
  },
  {
   "cell_type": "code",
   "execution_count": null,
   "metadata": {},
   "outputs": [],
   "source": []
  }
 ],
 "metadata": {
  "kernelspec": {
   "display_name": "Python 3",
   "language": "python",
   "name": "python3"
  },
  "language_info": {
   "codemirror_mode": {
    "name": "ipython",
    "version": 3
   },
   "file_extension": ".py",
   "mimetype": "text/x-python",
   "name": "python",
   "nbconvert_exporter": "python",
   "pygments_lexer": "ipython3",
   "version": "3.11.9"
  }
 },
 "nbformat": 4,
 "nbformat_minor": 2
}
