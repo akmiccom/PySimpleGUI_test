{
 "cells": [
  {
   "cell_type": "markdown",
   "metadata": {},
   "source": [
    "# Clock and Timer の開発\n",
    "- まずはレイアウトを作成"
   ]
  },
  {
   "cell_type": "code",
   "execution_count": 77,
   "metadata": {},
   "outputs": [],
   "source": [
    "#!usr/bin/env python\n",
    "# -*- coding: utf-8 -*-\n",
    "\n",
    "import PySimpleGUI as sg\n",
    "\n",
    "\n",
    "AUTO_CLOSE_DURATION = 3\n",
    "\n",
    "btn = sg.Button(\"00:00\", font=(\"impact\", 20))\n",
    "\n",
    "messege_reset = [\n",
    "    [sg.Text(\"FOCUS\", font=(\"impact\", 10))],\n",
    "    [sg.Button(\"RESET\", font=(\"impact\", 10))],\n",
    "]\n",
    "\n",
    "hour_minutes = sg.Text(\"00:00\", font=(\"impact\", 50))\n",
    "\n",
    "date_weekday = sg.Text(\"2024/10/30 Sat\", font=(\"impact\", 20))\n",
    "\n",
    "layout = [\n",
    "    [btn, sg.Column(messege_reset, justification=\"center\")],\n",
    "    [hour_minutes],\n",
    "    [date_weekday],\n",
    "]\n",
    "\n",
    "window = sg.Window(\n",
    "    title=\"Clock and Pomodoro Timer\",\n",
    "    layout=layout,\n",
    "    location=(200, 200),\n",
    "    # size=(220, 210),\n",
    "    element_justification='center',\n",
    "    element_padding=((3, 3), (0, 0)),\n",
    "    auto_close=True,\n",
    "    auto_close_duration=AUTO_CLOSE_DURATION,\n",
    ")\n",
    "\n",
    "while True:\n",
    "    event, values = window.read(timeout=1000, timeout_key=\"-TIMEOUT-\")\n",
    "\n",
    "    # break\n",
    "    if event in [sg.WIN_CLOSED, \"Exit\"]:\n",
    "        break"
   ]
  },
  {
   "cell_type": "code",
   "execution_count": null,
   "metadata": {},
   "outputs": [],
   "source": []
  }
 ],
 "metadata": {
  "kernelspec": {
   "display_name": ".venv",
   "language": "python",
   "name": "python3"
  },
  "language_info": {
   "codemirror_mode": {
    "name": "ipython",
    "version": 3
   },
   "file_extension": ".py",
   "mimetype": "text/x-python",
   "name": "python",
   "nbconvert_exporter": "python",
   "pygments_lexer": "ipython3",
   "version": "3.11.9"
  }
 },
 "nbformat": 4,
 "nbformat_minor": 2
}
