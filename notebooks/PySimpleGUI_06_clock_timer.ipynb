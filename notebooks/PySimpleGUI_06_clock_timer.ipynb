{
 "cells": [
  {
   "cell_type": "markdown",
   "metadata": {},
   "source": [
    "# Clock and Timer の開発\n",
    "1. レイアウトを作成"
   ]
  },
  {
   "cell_type": "code",
   "execution_count": 19,
   "metadata": {},
   "outputs": [],
   "source": [
    "#!usr/bin/env python\n",
    "# -*- coding: utf-8 -*-\n",
    "\n",
    "import PySimpleGUI as sg\n",
    "\n",
    "\n",
    "AUTO_CLOSE_DURATION = 3\n",
    "\n",
    "timer_btn = sg.Button(button_text=\"00:00\", font=(\"impact\", 40))\n",
    "\n",
    "# msg = sg.Text(\"FOCUS\", font=(\"impact\", 30), pad=((10, 0), (15, 0)))\n",
    "msg = sg.Text(\"FOCUS\", font=(\"impact\", 30))\n",
    "\n",
    "reset_btn = sg.Button(\"RESET\", font=(\"impact\", 13), pad=((37, 0), (0, 0)))\n",
    "\n",
    "hour_minutes = sg.Text(\"00:00\", font=(\"impact\", 40))\n",
    "\n",
    "date_weekday = sg.Text(\"2024/10/30 Sat\", font=(\"impact\", 20))\n",
    "\n",
    "# layout = [\n",
    "#     [timer_btn, sg.Column([[msg], [reset_btn]])],\n",
    "#     [hour_minutes],\n",
    "#     [date_weekday],\n",
    "# ]\n",
    "\n",
    "layout = [\n",
    "    [\n",
    "        [sg.VPush()],\n",
    "        [sg.Push(), timer_btn, sg.Push()], \n",
    "        [sg.Push(), msg, sg.Push()],\n",
    "        [sg.VPush()],\n",
    "    ]\n",
    "]\n",
    "\n",
    "window = sg.Window(\n",
    "    title=\"Clock and Pomodoro Timer\",\n",
    "    layout=layout,\n",
    "    location=(100, 200),\n",
    "    # size=(220, 210),\n",
    "    auto_close=True,\n",
    "    auto_close_duration=AUTO_CLOSE_DURATION,\n",
    ")\n",
    "\n",
    "\n",
    "while True:\n",
    "    event, values = window.read(timeout=1000, timeout_key=\"-TIMEOUT-\")\n",
    "\n",
    "    # break\n",
    "    if event in [sg.WIN_CLOSED, \"Exit\"]:\n",
    "        break"
   ]
  },
  {
   "cell_type": "code",
   "execution_count": null,
   "metadata": {},
   "outputs": [],
   "source": []
  }
 ],
 "metadata": {
  "kernelspec": {
   "display_name": ".venv",
   "language": "python",
   "name": "python3"
  },
  "language_info": {
   "codemirror_mode": {
    "name": "ipython",
    "version": 3
   },
   "file_extension": ".py",
   "mimetype": "text/x-python",
   "name": "python",
   "nbconvert_exporter": "python",
   "pygments_lexer": "ipython3",
   "version": "3.11.9"
  }
 },
 "nbformat": 4,
 "nbformat_minor": 2
}
