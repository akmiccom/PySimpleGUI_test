{
 "cells": [
  {
   "cell_type": "markdown",
   "metadata": {},
   "source": [
    "# PySimpleGUI Font List\n",
    "- PySimpleGUI フォントリスト\n",
    "- フォント選択設定 [フォント選択設定 PySimpleGUI-github](https://github.com/PySimpleGUI/PySimpleGUI/blob/master/DemoPrograms/Demo_Font_Previewer.py)"
   ]
  },
  {
   "cell_type": "code",
   "execution_count": 1,
   "metadata": {},
   "outputs": [
    {
     "name": "stdout",
     "output_type": "stream",
     "text": [
      "-list- {'-list-': ['@BIZ UD明朝 Medium'], '-in-': ''}\n",
      "-list- {'-list-': ['@HGP創英角ﾎﾟｯﾌﾟ体'], '-in-': ''}\n",
      "-list- {'-list-': ['@HGP明朝E'], '-in-': ''}\n",
      "-list- {'-list-': ['@HGPｺﾞｼｯｸE'], '-in-': ''}\n",
      "-list- {'-list-': ['@BIZ UDPゴシック'], '-in-': ''}\n",
      "-list- {'-list-': ['@BIZ UDP明朝 Medium'], '-in-': ''}\n",
      "-list- {'-list-': ['@BIZ UDゴシック'], '-in-': ''}\n",
      "-list- {'-list-': ['@BIZ UD明朝 Medium'], '-in-': ''}\n",
      "-list- {'-list-': ['@FixedSys'], '-in-': ''}\n",
      "-list- {'-list-': ['@HGP創英角ﾎﾟｯﾌﾟ体'], '-in-': ''}\n",
      "-list- {'-list-': ['@SimSun'], '-in-': ''}\n",
      "Read {'-list-': ['@SimSun'], '-in-': 'impa'}\n",
      "Read {'-list-': ['@SimSun'], '-in-': 'impa'}\n",
      "Read {'-list-': ['@SimSun'], '-in-': 'impa'}\n",
      "-list- {'-list-': ['@Terminal'], '-in-': 'impa'}\n",
      "Read {'-list-': ['@Terminal'], '-in-': 'impa'}\n",
      "-list- {'-list-': ['@UD デジタル 教科書体 N-B'], '-in-': 'impa'}\n",
      "Read {'-list-': ['@UD デジタル 教科書体 N-B'], '-in-': 'impa'}\n",
      "-list- {'-list-': ['@Microsoft YaHei UI Light'], '-in-': 'impa'}\n",
      "-list- {'-list-': ['@Microsoft JhengHei UI Light'], '-in-': 'impa'}\n",
      "-list- {'-list-': ['@MingLiU_HKSCS-ExtB'], '-in-': ''}\n",
      "-list- {'-list-': ['@UD デジタル 教科書体 N-B'], '-in-': ''}\n"
     ]
    }
   ],
   "source": [
    "#!/usr/bin/env python\n",
    "import PySimpleGUI as sg\n",
    "\n",
    "\"\"\"\n",
    "    Demo Font Previewer\n",
    "    \n",
    "    Gets a list of the installed fonts according to tkinter.\n",
    "    Requires PySimpleGUI version 4.57.0 and newer (that's when sg.Text.fonts_installed_list was added)\n",
    "    \n",
    "    Uses the Text element's class method to get the fonts reported by tkinter.\n",
    "    \n",
    "    Copyright 2020-2023 PySimpleSoft, Inc. and/or its licensors. All rights reserved.\n",
    "    \n",
    "    Redistribution, modification, or any other use of PySimpleGUI or any portion thereof is subject to the terms of the PySimpleGUI License Agreement available at https://eula.pysimplegui.com.\n",
    "    \n",
    "    You may not redistribute, modify or otherwise use PySimpleGUI or its contents except pursuant to the PySimpleGUI License Agreement.\n",
    "\"\"\"\n",
    "\n",
    "fonts = sg.Text.fonts_installed_list()\n",
    "\n",
    "\n",
    "sg.theme(\"Black\")\n",
    "\n",
    "layout = [\n",
    "    [\n",
    "        sg.Text(\n",
    "            \"My Text Element\",\n",
    "            size=(20, 1),\n",
    "            click_submits=True,\n",
    "            relief=sg.RELIEF_GROOVE,\n",
    "            font=\"Courier` 25\",\n",
    "            text_color=\"#FF0000\",\n",
    "            background_color=\"white\",\n",
    "            justification=\"center\",\n",
    "            pad=(5, 3),\n",
    "            key=\"-text-\",\n",
    "            tooltip=\"This is a text element\",\n",
    "        )\n",
    "    ],\n",
    "    [sg.Listbox(fonts, size=(30, 20), change_submits=True, key=\"-list-\")],\n",
    "    [sg.Input(key=\"-in-\")],\n",
    "    [sg.Button(\"Read\", bind_return_key=True), sg.Exit()],\n",
    "]\n",
    "\n",
    "window = sg.Window(\"My new window\", layout, location=(100, 100))\n",
    "\n",
    "while True:  # Event Loop\n",
    "    event, values = window.read()\n",
    "    if event in (sg.WIN_CLOSED, \"Exit\"):\n",
    "        break\n",
    "    text_elem = window[\"-text-\"]\n",
    "    print(event, values)\n",
    "    if values[\"-in-\"] != \"\":\n",
    "        text_elem.update(font=values[\"-in-\"])\n",
    "    else:\n",
    "        text_elem.update(font=(values[\"-list-\"][0], 25))\n",
    "window.close()"
   ]
  }
 ],
 "metadata": {
  "kernelspec": {
   "display_name": "Python 3",
   "language": "python",
   "name": "python3"
  },
  "language_info": {
   "codemirror_mode": {
    "name": "ipython",
    "version": 3
   },
   "file_extension": ".py",
   "mimetype": "text/x-python",
   "name": "python",
   "nbconvert_exporter": "python",
   "pygments_lexer": "ipython3",
   "version": "3.11.9"
  }
 },
 "nbformat": 4,
 "nbformat_minor": 2
}
