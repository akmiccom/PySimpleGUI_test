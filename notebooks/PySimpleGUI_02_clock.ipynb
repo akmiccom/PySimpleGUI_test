{
 "cells": [
  {
   "cell_type": "markdown",
   "metadata": {},
   "source": [
    "# PySimpleGUI Watch\n",
    "- PySimpleGUI を使って時計ウィジェットを作成\n",
    "- フォント選択設定 [フォント選択設定 PySimpleGUI-github](https://github.com/PySimpleGUI/PySimpleGUI/blob/master/DemoPrograms/Demo_Font_Previewer.py)"
   ]
  },
  {
   "cell_type": "code",
   "execution_count": 7,
   "metadata": {},
   "outputs": [],
   "source": [
    "import PySimpleGUI as sg\n",
    "from datetime import datetime\n",
    "from pyautogui import size\n",
    "\n",
    "\n",
    "fonts = sg.Text.fonts_installed_list()\n",
    "\n",
    "layout = [\n",
    "    [\n",
    "        sg.Text(\n",
    "            font=(\"impact\", 50),\n",
    "            text_color=\"gray\",\n",
    "            key=\"-time-\",\n",
    "            auto_size_text=False,\n",
    "        ),\n",
    "    ],\n",
    "    [\n",
    "        sg.Text(\n",
    "            font=(\"impact\", 20),\n",
    "            text_color=\"gray\",\n",
    "            key=\"-date-\",\n",
    "        ),\n",
    "    ],\n",
    "    [\n",
    "        sg.Listbox(\n",
    "            fonts,\n",
    "            size=(30, 20),\n",
    "            change_submits=True, key='-list-')\n",
    "    ],\n",
    "]\n",
    "\n",
    "window = sg.Window(\n",
    "    title=\"clock\",\n",
    "    layout=layout,\n",
    "    # size=(400, 200),\n",
    "    location=(size()[0] - 395, size()[1] - 275),\n",
    "    transparent_color=sg.theme_background_color(),\n",
    "    no_titlebar=True,\n",
    "    right_click_menu=[\"menu\", [\"Exit\", \"!Properties\"]],\n",
    "    keep_on_top=True,\n",
    "    grab_anywhere_using_control=True,\n",
    "    alpha_channel=0.5,\n",
    "    # auto_close=True,\n",
    "    # auto_close_duration=5,\n",
    ")\n",
    "\n",
    "while True:\n",
    "    event, values = window.read(timeout=100, timeout_key=\"-timeout-\")\n",
    "    if event in [sg.WIN_CLOSED, \"Exit\"]:\n",
    "        break\n",
    "    elif event in \"-timeout-\":\n",
    "        now = datetime.now()\n",
    "        time = now.strftime(\"%#H:%M:%S\")\n",
    "        date = now.strftime(\"%#Y/%#m/%#d\")\n",
    "        weekday = now.strftime(\"%a\")\n",
    "        window[\"-time-\"].update(time)\n",
    "        window[\"-date-\"].update(f\"{date} {weekday}\")\n",
    "\n",
    "window.close()"
   ]
  }
 ],
 "metadata": {
  "kernelspec": {
   "display_name": "Python 3",
   "language": "python",
   "name": "python3"
  },
  "language_info": {
   "codemirror_mode": {
    "name": "ipython",
    "version": 3
   },
   "file_extension": ".py",
   "mimetype": "text/x-python",
   "name": "python",
   "nbconvert_exporter": "python",
   "pygments_lexer": "ipython3",
   "version": "3.11.9"
  }
 },
 "nbformat": 4,
 "nbformat_minor": 2
}
