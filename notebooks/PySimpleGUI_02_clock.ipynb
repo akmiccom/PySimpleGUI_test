{
 "cells": [
  {
   "cell_type": "markdown",
   "metadata": {},
   "source": [
    "# PySimpleGUI Clock\n",
    "- PySimpleGUI を使って時計ウィジェットを作成\n",
    "- フォント選択設定 [フォント選択設定 PySimpleGUI-github](https://github.com/PySimpleGUI/PySimpleGUI/blob/master/DemoPrograms/Demo_Font_Previewer.py)"
   ]
  },
  {
   "cell_type": "code",
   "execution_count": 5,
   "metadata": {},
   "outputs": [],
   "source": [
    "#!/usr/bin/env python\n",
    "# coding: utf-8\n",
    "\n",
    "import PySimpleGUI as sg\n",
    "from datetime import datetime\n",
    "from pyautogui import size\n",
    "import platform # add chatGPT\n",
    "\n",
    "\n",
    "def date_info(time_format, date_format):\n",
    "    now = datetime.now()\n",
    "    time = now.strftime(time_format)\n",
    "    date = now.strftime(date_format)\n",
    "    weekday = now.strftime(\"%a\")\n",
    "    return time, date, weekday\n",
    "\n",
    "# OSごとの時間・日付フォーマットの設定\n",
    "if platform.system() == 'Windows':\n",
    "    time_format = \"%H:%M:%S\"\n",
    "    date_format = \"%Y/%#m/%#d\"\n",
    "else:\n",
    "    time_format = \"%H:%M:%S\"\n",
    "    date_format = \"%Y/%m/%d\"\n",
    "\n",
    "layout = [\n",
    "    [sg.Text(font=(\"impact\", 50), text_color=\"gray\", key=\"-time-\")],\n",
    "    [sg.Text(font=(\"impact\", 20), text_color=\"gray\", key=\"-date-\")],\n",
    "]\n",
    "\n",
    "window = sg.Window(\n",
    "    title=\"clock\",\n",
    "    layout=layout,\n",
    "    location=(size()[0] - 450, size()[1] - 380),\n",
    "    transparent_color=sg.theme_background_color(),\n",
    "    no_titlebar=True,\n",
    "    right_click_menu=[\"menu\", [\"Exit\", \"!Properties\"]],\n",
    "    keep_on_top=True,\n",
    "    grab_anywhere_using_control=True,\n",
    "    alpha_channel=0.5,\n",
    ")\n",
    "\n",
    "while True:\n",
    "    event, values = window.read(timeout=1000, timeout_key=\"-timeout-\")\n",
    "    if event in [sg.WIN_CLOSED, \"Exit\"]:\n",
    "        break\n",
    "    elif event in \"-timeout-\":\n",
    "        time, date, weekday = date_info(time_format, date_format)\n",
    "        window[\"-time-\"].update(time)\n",
    "        window[\"-date-\"].update(f\"{date} {weekday}\")\n",
    "\n",
    "window.close()"
   ]
  }
 ],
 "metadata": {
  "kernelspec": {
   "display_name": "Python 3",
   "language": "python",
   "name": "python3"
  },
  "language_info": {
   "codemirror_mode": {
    "name": "ipython",
    "version": 3
   },
   "file_extension": ".py",
   "mimetype": "text/x-python",
   "name": "python",
   "nbconvert_exporter": "python",
   "pygments_lexer": "ipython3",
   "version": "3.11.9"
  }
 },
 "nbformat": 4,
 "nbformat_minor": 2
}
