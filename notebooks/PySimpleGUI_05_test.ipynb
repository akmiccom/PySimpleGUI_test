{
 "cells": [
  {
   "cell_type": "code",
   "execution_count": 8,
   "metadata": {},
   "outputs": [],
   "source": [
    "import PySimpleGUI as sg\n",
    "\n",
    "col = [\n",
    "    [sg.Text(\"Row1 col1\")],\n",
    "    [sg.Text(\"Row2 col1\")],\n",
    "    [sg.Text(\"Row3 col1\")],\n",
    "    [sg.Text(\"Row4 col1\")],\n",
    "]\n",
    "\n",
    "layout = [[sg.Column(col)]]\n",
    "\n",
    "while True:\n",
    "    event, values = sg.Window(\"sg column test\", layout).Read()\n",
    "    if event == sg.WIN_CLOSED:\n",
    "        break"
   ]
  },
  {
   "cell_type": "code",
   "execution_count": 9,
   "metadata": {},
   "outputs": [],
   "source": [
    "import PySimpleGUI as sg\n",
    "\n",
    "col = [\n",
    "    [sg.Text('Row1 col1'), sg.Text('Row1 col2'), sg.Text('Row1 col3')],\n",
    "]\n",
    "\n",
    "layout = [[sg.Column(col)]]\n",
    "\n",
    "while True:\n",
    "    event, values = sg.Window('sg column test', layout).Read()\n",
    "    if event == sg.WIN_CLOSED:\n",
    "        break"
   ]
  },
  {
   "cell_type": "code",
   "execution_count": 10,
   "metadata": {},
   "outputs": [],
   "source": [
    "import PySimpleGUI as sg\n",
    "\n",
    "col = [\n",
    "    [sg.Text('Row1 col1'), sg.Text('Row1 col2'), sg.Text('Row1 col3')],\n",
    "    [sg.Text('Row2 col1'), sg.Text('Row2 col2'), sg.Text('Row2 col3')],\n",
    "    [sg.Text('Row3 col1'), sg.Text('Row3 col2'), sg.Text('Row3 col3')],\n",
    "]\n",
    "\n",
    "layout = [[sg.Column(col)]]\n",
    "\n",
    "while True:\n",
    "    event, values = sg.Window('sg column test', layout).Read()\n",
    "    if event == sg.WIN_CLOSED:\n",
    "        break"
   ]
  },
  {
   "cell_type": "code",
   "execution_count": null,
   "metadata": {},
   "outputs": [],
   "source": []
  }
 ],
 "metadata": {
  "kernelspec": {
   "display_name": ".venv",
   "language": "python",
   "name": "python3"
  },
  "language_info": {
   "codemirror_mode": {
    "name": "ipython",
    "version": 3
   },
   "file_extension": ".py",
   "mimetype": "text/x-python",
   "name": "python",
   "nbconvert_exporter": "python",
   "pygments_lexer": "ipython3",
   "version": "3.11.9"
  }
 },
 "nbformat": 4,
 "nbformat_minor": 2
}
